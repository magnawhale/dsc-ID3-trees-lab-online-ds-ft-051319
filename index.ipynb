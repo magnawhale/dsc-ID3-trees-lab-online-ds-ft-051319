{
 "cells": [
  {
   "cell_type": "markdown",
   "metadata": {},
   "source": [
    "# ID3 Classification Trees: Perfect Split with Information Gain - Lab\n",
    "\n",
    "## Introduction\n",
    "\n",
    "In this lab, we will simulate the example from the previous lesson in python. We will write functions to calculate entropy and IG which will be used for calculating these uncertainty measures and deciding upon creating a split using information gain while growing a ID3 classification tree. We shall attempt to write general function that can be used for other (larger) problems as well. So let's get on with it.\n",
    "\n",
    "## Objectives\n",
    "You will be able to:\n",
    "- Write functions for calculating Entropy and Information gain measures\n",
    "- Identify the attribute for best split at master and each subsequent node\n",
    "\n",
    "\n",
    "## Problem\n",
    "\n",
    "We shall use the same problem about deciding weather to go and play tennis on a given day, given the weather conditions. Here is the data from previous lesson:\n",
    "\n",
    "|  outlook | temp | humidity | windy | play |\n",
    "|:--------:|:----:|:--------:|:-----:|:----:|\n",
    "| overcast | cool |   high   |   Y   |  yes |\n",
    "| overcast | mild |  normal  |   N   |  yes |\n",
    "|   sunny  | cool |  normal  |   N   |  yes |\n",
    "| overcast |  hot |   high   |   Y   |  no  |\n",
    "|   sunny  |  hot |  normal  |   Y   |  yes |\n",
    "|   rain   | mild |   high   |   N   |  no  |\n",
    "|   rain   | cool |  normal  |   N   |  no  |\n",
    "|   sunny  | mild |   high   |   N   |  yes |\n",
    "|   sunny  | cool |  normal  |   Y   |  yes |\n",
    "|   sunny  | mild |  normal  |   Y   |  yes |\n",
    "| overcast | cool |   high   |   N   |  yes |\n",
    "|   rain   | cool |   high   |   Y   |  no  |\n",
    "|   sunny  |  hot |  normal  |   Y   |  no  |\n",
    "|   sunny  | mild |   high   |   N   |  yes |\n",
    "\n",
    "## Write a function `entropy(pi)` to calculate total entropy in a given discrete probability distribution `pi`\n",
    "\n",
    "- The function should input a probability distribution `pi` as an array of class distributions. This should take the form of two integers to represent how many items are in each class.  For example: `[4,4]` indicates that there is four item in each class. `[10,0]` indicates that there are 10 items in one class and 0 in the other.\n",
    "- Calculate and return entropy according to the formula: $$Entropy(p) = -\\sum (P_i . log_2(P_i))$$"
   ]
  },
  {
   "cell_type": "code",
   "execution_count": 6,
   "metadata": {},
   "outputs": [
    {
     "name": "stdout",
     "output_type": "stream",
     "text": [
      "1.0\n",
      "0.0\n",
      "0.6500224216483541\n"
     ]
    }
   ],
   "source": [
    "from math import log\n",
    "def entropy(pi):\n",
    "    '''\n",
    "    return the Entropy of a probability distribution:\n",
    "    entropy(p) = - SUM (Pi * log(Pi) )\n",
    "    '''\n",
    "    p = 0\n",
    "    for i in range(len(pi)):\n",
    "        if pi[i] != 0:\n",
    "            p += -1 * (pi[i]/sum(pi)) * log((pi[i]/sum(pi)), 2)\n",
    "        else:\n",
    "            p += 0\n",
    "    entropy = p\n",
    "    return entropy\n",
    "\n",
    "\n",
    "print(entropy([1,1])) # Maximum Entropy e.g. a coin toss\n",
    "print (entropy([0,6])) # No entropy, ignore the negative with zero , it's there due to log function\n",
    "print (entropy([2,10])) # A random mix of classes\n",
    "\n",
    "# 1.0\n",
    "# 0.0\n",
    "# 0.6500224216483541"
   ]
  },
  {
   "cell_type": "markdown",
   "metadata": {},
   "source": [
    "## Write a function `IG(D,a)` to calculate the information gain \n",
    "\n",
    "- The function should input `D` as a class distribution array for target class, and `a` the class distribution of the attribute to be tested\n",
    "- Using the `entropy()` function above, calculate the information gain as:\n",
    "\n",
    "$$gain(D,A) = Entropy(D) - \\sum(\\frac{|D_i|}{|D|}.Entropy(D_i))$$\n",
    "\n",
    "where `Di` represents distribution of each class in `a`.\n"
   ]
  },
  {
   "cell_type": "code",
   "execution_count": 10,
   "metadata": {},
   "outputs": [
    {
     "data": {
      "text/plain": [
       "0.5408520829727552"
      ]
     },
     "execution_count": 10,
     "metadata": {},
     "output_type": "execute_result"
    }
   ],
   "source": [
    "def IG(D, a):\n",
    "    '''\n",
    "    return the information gain:\n",
    "    gain(D, A) = entropy(D)− SUM( |Di| / |D| * entropy(Di) )\n",
    "    '''\n",
    "    total = 0\n",
    "    for Di in a:\n",
    "        total += abs(sum(Di) / sum(D)) * entropy(Di)\n",
    "    gain = entropy(D) - total\n",
    "    return gain\n",
    "\n",
    "\n",
    "# set of example of the dataset - distribution of classes\n",
    "test_dist = [6, 6] # Yes, No\n",
    "# attribute, number of members (feature)\n",
    "test_attr = [ [4,0], [2,4], [0,2] ] # class1, class2, class3 of attr1 according to YES/NO classes in test_dist\n",
    "\n",
    "IG(test_dist, test_attr)\n",
    "# 0.5408520829727552"
   ]
  },
  {
   "cell_type": "markdown",
   "metadata": {},
   "source": [
    "## First Iteration - Decide Best Split for master node\n",
    "\n",
    "- Create The class distribution `play` as a list showing frequencies of both classes from the dataset\n",
    "- Similarly create variables for four categorical feature attributes showing the class distribution for each class with respect to the target classes (yes and no)\n",
    "- Pass the play distribution with each attribute to calculate the information gain"
   ]
  },
  {
   "cell_type": "code",
   "execution_count": 14,
   "metadata": {},
   "outputs": [
    {
     "name": "stdout",
     "output_type": "stream",
     "text": [
      "Outlook: 0.41265581953400066\n",
      "Temperature: 0.09212146003297261\n",
      "Humidity: 0.0161116063701896\n",
      "Wind: 0.0161116063701896\n"
     ]
    }
   ],
   "source": [
    "# class distribution for target variable\n",
    "play = [9, 5]   # [yes, no]\n",
    "\n",
    "# class distributions for each attribute, broken down by attribute category\n",
    "outlook = [[6,1], [3,1], [0,3]]   # [sunny, overcast, rain]\n",
    "temp = [[1,2], [4,2], [4,1]]   # [hot, cool, mild]\n",
    "humidity = [[2,5], [3,4]]   # [high, normal]\n",
    "windy =[[4,3], [5,2]]   # [Y, N]\n",
    "\n",
    "# Information Gain:\n",
    "print(f\"Outlook: {IG(play, outlook)}\")\n",
    "print(f\"Temperature: {IG(play, temp)}\")\n",
    "print(f\"Humidity: {IG(play, humidity)}\")\n",
    "print(f\"Wind: {IG(play, windy)}\")\n",
    "\n",
    "# Outlook: 0.41265581953400066\n",
    "# Temperature: 0.09212146003297261\n",
    "# Humidity: 0.0161116063701896\n",
    "# Wind: 0.0161116063701896"
   ]
  },
  {
   "cell_type": "markdown",
   "metadata": {},
   "source": [
    "We see here that the outlook attribute gives us the highest value for information gain, hence we choose this for creating a split at root node. So far we have our root node looking as below:\n",
    "<img src='images/tree_fs.png'  width =\"500\"  >\n",
    "\n",
    "\n",
    "## Second Iteration\n",
    "\n",
    "Since the first iteration determines what split we should make for the root node of our tree, it's pretty simple. Now, we move down to the second level, and start finding the optimal split for each of the nodes on this level. The first branch (edge) of the tree above leads to the \"Sunny\" outcome. Check for temperature, humidity and wind attributes to see which one provides the highest information gain.\n",
    "\n",
    "For the steps as above. Remember, we have 6 positive and 1 negative examples in the \"sunny\" branch."
   ]
  },
  {
   "cell_type": "code",
   "execution_count": 17,
   "metadata": {},
   "outputs": [
    {
     "name": "stdout",
     "output_type": "stream",
     "text": [
      "Information Gain:\n",
      "Temperature: 0.7974288158134881\n",
      "Humidity: 0.6824544962108586\n",
      "Wind: 0.7084922088251644\n"
     ]
    }
   ],
   "source": [
    "# the sets below are only for when outlook=sunny\n",
    "# class distributions for each attribute, broken down by attribute category\n",
    "temp = [[1,1],[3,0], [2,0]]  # [hot, mild, cool] \n",
    "humidity = [[2,0], [4,1]]   # [high, normal]\n",
    "windy =[[3,1], [3,0]]   # [Y, N]\n",
    "\n",
    "print(\"Information Gain:\")\n",
    "print(f\"Temperature: {IG(play, temp)}\")\n",
    "print(f\"Humidity: {IG(play, humidity)}\")\n",
    "print(f\"Wind: {IG(play, windy)}\")\n",
    "\n",
    "# Temperature: 0.7974288158134881\n",
    "# Humidity: 0.6824544962108586\n",
    "# Wind: 0.7084922088251644"
   ]
  },
  {
   "cell_type": "markdown",
   "metadata": {},
   "source": [
    "So here we see that temperature gives us the the highest information gain, so we'll use it to split our tree as shown below:\n",
    "\n",
    "<img src='images/humid_fs.png'  width =\"650\"  >\n",
    "\n",
    "\n",
    "Let's continue. \n",
    "\n"
   ]
  },
  {
   "cell_type": "markdown",
   "metadata": {},
   "source": [
    "## Third Iteration\n",
    "\n",
    "We'll now calculate splits for the 'temperature' node we just created for days where the weather is sunny. Temperature has three possible values: [Hot, Mild, Cool]. This means that for each of the possible temperatures, we'll need to calculate if splitting on windy or humidity gives us the greatest possible information gain.\n",
    "\n",
    "Why are we doing this next instead of the rest of the splits on level 2? Because Decision Trees are a Greedy Algorithm, meaning that the next choice is always the one that will give it the greatest information gain. In this case, evaluating the temperature on sunny days gives us the most information gain, so that's where we'll go next."
   ]
  },
  {
   "cell_type": "code",
   "execution_count": 18,
   "metadata": {},
   "outputs": [
    {
     "name": "stdout",
     "output_type": "stream",
     "text": [
      "Information Gain:\n",
      "Humidity: 0.7974288158134881\n",
      "Wind: 0.7974288158134881\n"
     ]
    }
   ],
   "source": [
    "# the sets below are only for when outlook=sunny and temp=hot\n",
    "# class distributions for each attribute, broken down by attribute category\n",
    "humidity = [[0,0], [1,1]]   # [high, normal]\n",
    "windy =[[1,1], [0,0]]   # [Y, N]\n",
    "\n",
    "print(\"Information Gain:\")\n",
    "print(f\"Humidity: {IG(play, humidity)}\")\n",
    "print(f\"Wind: {IG(play, windy)}\")\n",
    "\n",
    "# Temperature: 0.7974288158134881\n",
    "# Humidity: 0.6824544962108586\n",
    "# Wind: 0.7084922088251644"
   ]
  },
  {
   "cell_type": "markdown",
   "metadata": {},
   "source": [
    "## All the Other Iterations\n",
    "\n",
    "What happens once we get down to a 'pure' split? Obviously, we stop splitting. Once that happens, we go back to the highest remaining uncalculated node, and calculate the best possible split for that one. We then continue on with that branch, until we have exhausted all possible splits or we run into a split that gives us 'pure' leaves where all 'play=Yes' is on one side of the split, and all 'play=No' is on the other."
   ]
  },
  {
   "cell_type": "code",
   "execution_count": null,
   "metadata": {},
   "outputs": [],
   "source": []
  },
  {
   "cell_type": "markdown",
   "metadata": {},
   "source": [
    "## Summary \n",
    "\n",
    "Now, you've seen:\n",
    "\n",
    "- How to calculate entropy\n",
    "- How to calculate information gain\n",
    "- How to figure out the optimal split\n",
    "- How to figure out what the next split you should calculate should be ('greedy' approach)\n",
    "- This lab should have helped you familiarize yourself with how Decision Trees work 'under the hood', and demystified - How the algorithm actually 'learns' from data. Great job"
   ]
  }
 ],
 "metadata": {
  "kernelspec": {
   "display_name": "Python [conda env:learn-env] *",
   "language": "python",
   "name": "conda-env-learn-env-py"
  },
  "language_info": {
   "codemirror_mode": {
    "name": "ipython",
    "version": 3
   },
   "file_extension": ".py",
   "mimetype": "text/x-python",
   "name": "python",
   "nbconvert_exporter": "python",
   "pygments_lexer": "ipython3",
   "version": "3.6.6"
  }
 },
 "nbformat": 4,
 "nbformat_minor": 2
}
